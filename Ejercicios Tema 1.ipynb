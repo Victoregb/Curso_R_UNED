{
    "cells": [
        {
            "cell_type": "markdown",
            "metadata": {},
            "source": [
                "  \n",
                "  \n",
                "__Ejercicio 1.4.__\n",
                "_Queremos calcular la circunferencia y área de un círculo de radio 1.8 metros. Recordemos que la circunferencia es dos pi veces el radio; el área, por su parte, es pi veces el cuadrado del radio._\n",
                "_Define y nombra las variables adecuadamente y realiza los cálculos necesarios._\n"
            ]
        },
        {
            "cell_type": "code",
            "execution_count": null,
            "metadata": {},
            "outputs": [],
            "source": [
                "#Un atajo para escribir el símbolo de asignación (<-) es alt + '-' \n",
                "\n",
                "radio  <- 1.8\n",
                "\n",
                "circunferencia  <- 2 * pi * radio\n",
                "\n",
                "area  <- pi * radio^2\n",
                "\n",
                "\n",
                "# Parece que presentar así el resultado en el notebook hace que a cada salida de \n",
                "# resultados aparezca una celda nueva lo cual no es lo ideal a la hora de \n",
                "# presentar resultados. ¿Mejor emlpear otras estrategias? \n",
                "  \n",
                "#print(circunferencia)\n",
                "#print('La circunferencia es: ')\n",
                "#print('El área de la circunferencia es: ')\n",
                "#print(area)\n",
                "\n",
                "#La solución que me parecía más simple era la de emplear '\\n' para una nueva \n",
                "# linea, pero al final no ha sido 'tan simple'. Primero he necesesitado crear \n",
                "# una string con 'sprintf' para integrar la variable en la string. Emplear la\n",
                "# la función 'paste' para unir ambas y usar como separador el '\\n'.\n",
                "\n",
                "resultado <- paste(sprintf('La circunferencia es: %s',area),\n",
                "                   sprintf('El area es: %s', circunferencia), \n",
                "                   sep=\"\\n\")\n",
                "\n",
                "#Por último, imprimimos el resultado con el formato deseado.\n",
                "cat(resultado)\n"
            ]
        },
        {
            "cell_type": "markdown",
            "metadata": {},
            "source": [
                "  \n",
                "  \n",
                "__Ejercicio 1.5.__\n",
                "_Crea las funciones circunf() y circulo(), cada una con único argumento, radio, y que devuelven la longitud de la circunferencia y el área de círculo correspondientes, respectivamente. ¿Es posible crear la función circ(), con un argumento (radio), que devuelva, simultáneamente, la longitud y el áreas asociados?_\n"
            ]
        },
        {
            "cell_type": "code",
            "execution_count": null,
            "metadata": {},
            "outputs": [],
            "source": [
                "circunf <-function(radio){\n",
                "  return( 2 * pi * radio)\n",
                "}\n",
                "\n",
                "circulo <- function(radio){\n",
                "  return(pi * radio^2)\n",
                "}\n",
                "\n",
                "circ <- function(radio){\n",
                "  #Creamos un vector para poder almacenar los datos\n",
                "  v <- c()\n",
                "  \n",
                "  #Los vectores en R empiezan en 1 (en Python empiezan en 0)\n",
                "  v[1] <- 2*pi*radio\n",
                "  v[2] <- pi*radio^2\n",
                "  \n",
                "  #Tenemos dos opciones para devolver los resultados: uno en el que \n",
                "  # solo devolvemos el vector con las cifras. Descomentar este return\n",
                "  # y comentar el siguiente para ver la diferencia.\n",
                "  #return(v)\n",
                "  resultado <- paste(sprintf('La circunferencia es: %s',v[1]),\n",
                "                   sprintf('El area es: %s', v[2]), \n",
                "                   sep=\"\\n\")\n",
                "\n",
                "  #Otro en el que lo devolvemos con contexto.\n",
                "  #Por último, imprimimos el resultado con el formato deseado.\n",
                "  return(cat(resultado))\n",
                "  \n",
                "}\n",
                "\n",
                "circunf(radio)\n",
                "circulo(radio)\n",
                "circ(radio)\n"
            ]
        },
        {
            "cell_type": "markdown",
            "metadata": {},
            "source": [
                "  \n",
                "  \n",
                "__Ejercicio 1.6.__\n",
                "_Vamos a crear un pequeño programa y luego lo ejecutaremos. Para ello:_  \n",
                "_1. Abre un archivo nuevo (R Script) en RStudio._  \n",
                "_2. Escribe un comentario (con #) al inicio indicando el nombre del programa (programa_1.R) y en la siguiente línea, su autor/a y fecha._  \n",
                "_3. A continuación crea un vector, v, de longitud 7 con números reales en el intervalo [0, 10]._  \n",
                "_4. Calcula la media del vector._  \n",
                "_5. Muéstrala por pantalla._  \n",
                "_6. Guarda el archivo con el nombre indicado anteriormente y ciérralo._  \n",
                "_7. Comprueba que el archivo existe y está en el mismo directorio en que estamos situados en R (podemos comprobarlo con getwd())._  \n",
                "_8. Ejecuta el programa._  \n",
                "  \n"
            ]
        },
        {
            "cell_type": "code",
            "execution_count": null,
            "metadata": {},
            "outputs": [],
            "source": [
                "# programa_1.R\n",
                "# autor:victoregb; 15/04/2021\n",
                "\n",
                "#Paso 3: Crea un vector v, de longitud 7, intervalo [0,10]\n",
                "#   v <- c(0,3,5, 7,9,1,10)\n",
                "\n",
                "#El paso 4 y 5 lo resumimos en una sola linea.\n",
                "#   print(mean(v))\n",
                "\n",
                "# Esta celda la he copiado en un script de R y guardado para realizar este paso.\n",
                "# Guardamos el archivo con el nombre 'programa_1.R'\n",
                "# Comprobamos que esta con ¿¿getwd()?? La ayuda nos recomienda list.files y\n",
                "# corroboramos que tenemos el programa.\n",
                "source('programa_01.R')\n"
            ]
        },
        {
            "cell_type": "markdown",
            "metadata": {},
            "source": [
                "  \n",
                "  \n",
                "__Ejercicio 1.7.__\n",
                "_Guarda el anterior vector v <- c(9, -4, 3.14) en un archivo llamado datos.RData. Comprueba la existencia del archivo en el directorio de trabajo actual._\n"
            ]
        },
        {
            "cell_type": "code",
            "execution_count": null,
            "metadata": {},
            "outputs": [],
            "source": [
                "v <- c(9, -4, 3.14)\n",
                "save(v, file='datos.RData')\n"
            ]
        },
        {
            "cell_type": "markdown",
            "metadata": {},
            "source": [
                "  \n",
                "  \n",
                "__Ejercicio 1.8.__\n",
                "_Ahora vamos a construir otro programa, programa_2.R, que leerá el archivo de datos recién construido (datos.RData) y calculará y mostrará la media. Para ello:_  \n",
                "_Abre el archivo programa_1.R en RStudio._  \n",
                "_Guárdalo con el nombre programa_2.R._  \n",
                "_Cambia la línea donde se creaba el vector v por otra donde se lea el archivo de datos datos.RData._ \n",
                "_Deja el resto del programa igual._  \n",
                "_Guarda el archivo y ciérralo._  \n",
                "_Comprueba que el archivo existe y está en el mismo directorio en que estamos situados en R._  \n",
                "_Ejecuta el programa._  \n"
            ]
        },
        {
            "cell_type": "code",
            "execution_count": null,
            "metadata": {},
            "outputs": [],
            "source": [
                "#El contenido de programa_02.R quedaria así:\n",
                "\n",
                "#   data <- load(\"~/Curso_R/datos.Rdata\")\n",
                "#   media <- mean(v)\n",
                "#   cat(\"La media es: \", media)\n",
                "\n",
                "source('programa_02.R')\n"
            ]
        },
        {
            "cell_type": "markdown",
            "metadata": {},
            "source": [
                "__Ejercicio 1.9.__\n",
                "_Por último, modificaremos el vector v, lo volveremos a grabar en datos.RData y ejecutaremos de nuevo programa_2.R. Por último, deberemos comprobar que el resultado de la ejecución se ajusta al nuevo vector._\n"
            ]
        },
        {
            "cell_type": "code",
            "execution_count": null,
            "metadata": {},
            "outputs": [],
            "source": [
                "v <- c(0,3,5, 7,9,1,10)\n",
                "\n",
                "save(v, file='datos.RData')\n",
                "\n",
                "source('programa_02.R')\n",
                "#Confirmamos que la media se ajusta al nuevo vector.\n"
            ]
        },
        {
            "cell_type": "markdown",
            "metadata": {},
            "source": [
                "__Ejercicio 1.10.__\n",
                "_Los vectores x <- c(2, 1, 5, 2, 4) e y <- c(1, 1, 4, 3, 4) contienen información ordinal. Queremos conocer una medida de su relación a través de la correlación policórica._  \n",
                "_Comprueba si R dispone de alguna función que responda a nuestra necesidad; en caso contrario, localiza algún paquete que sí permita el cálculo, instálalo y llévalo a cabo._  \n"
            ]
        },
        {
            "cell_type": "code",
            "execution_count": null,
            "metadata": {},
            "outputs": [],
            "source": [
                "x <- c(2, 1, 5, 2, 4)\n",
                "y <- c(1, 1, 4, 3, 4)\n",
                "\n",
                "#Buscamos en internet un paquete para poder realizar correlaciones policóricas.\n",
                "install.packages(\"polycor\")\n",
                "library(\"polycor\")\n",
                "polychor(x,y)\n"
            ]
        },
        {
            "cell_type": "markdown",
            "metadata": {},
            "source": [
                "__Ejercicio 1.11.__\n",
                "_¿Cómo obtener una media recortada?_\n",
                "_Una búsqueda en la ayuda (?trimmed mean) no dice nada, y usar la doble interrogación tampoco ayuda mucho. Una búsqueda en Internet puede ayudar, y también explorar la ayuda de mean()._\n"
            ]
        },
        {
            "cell_type": "code",
            "execution_count": null,
            "metadata": {},
            "outputs": [],
            "source": [
                "mean(v, trim = 0.05)\n",
                "\n"
            ]
        },
        {
            "cell_type": "markdown",
            "metadata": {},
            "source": "\n"
        }
    ],
    "metadata": {
        "anaconda-cloud": "",
        "kernelspec": {
            "display_name": "R",
            "langauge": "R",
            "name": "ir"
        },
        "language_info": {
            "codemirror_mode": "r",
            "file_extension": ".r",
            "mimetype": "text/x-r-source",
            "name": "R",
            "pygments_lexer": "r",
            "version": "3.4.1"
        }
    },
    "nbformat": 4,
    "nbformat_minor": 1
}
